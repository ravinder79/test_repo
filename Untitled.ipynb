{
 "cells": [
  {
   "cell_type": "code",
   "execution_count": 42,
   "metadata": {},
   "outputs": [],
   "source": [
    "x = 199274\n",
    "r = x % 2"
   ]
  },
  {
   "cell_type": "code",
   "execution_count": 43,
   "metadata": {},
   "outputs": [
    {
     "data": {
      "text/plain": [
       "0"
      ]
     },
     "execution_count": 43,
     "metadata": {},
     "output_type": "execute_result"
    }
   ],
   "source": [
    "r"
   ]
  },
  {
   "cell_type": "code",
   "execution_count": 44,
   "metadata": {},
   "outputs": [
    {
     "name": "stdout",
     "output_type": "stream",
     "text": [
      "The given number is even\n",
      "hello Jemison\n"
     ]
    }
   ],
   "source": [
    "if r == 0:\n",
    "    print('The given number is even')\n",
    "\n",
    "if r == 1:\n",
    "    print('The given number is odd')\n",
    "    \n",
    "print('hello Jemison')"
   ]
  },
  {
   "cell_type": "code",
   "execution_count": 45,
   "metadata": {},
   "outputs": [
    {
     "name": "stdout",
     "output_type": "stream",
     "text": [
      "The given number is even\n",
      "hello Jemison\n"
     ]
    }
   ],
   "source": [
    "if r == 0:\n",
    "    print('The given number is even')\n",
    "\n",
    "else:\n",
    "    print('The given number is odd')\n",
    "    \n",
    "print('hello Jemison')"
   ]
  },
  {
   "cell_type": "code",
   "execution_count": 46,
   "metadata": {},
   "outputs": [],
   "source": [
    "# 1 == > ONE\n",
    "# 2 --> TWO\n",
    "# 3 ==> THREE\n",
    "# >4 --> Huraay!"
   ]
  },
  {
   "cell_type": "code",
   "execution_count": 61,
   "metadata": {},
   "outputs": [],
   "source": [
    "x = 2"
   ]
  },
  {
   "cell_type": "code",
   "execution_count": 63,
   "metadata": {},
   "outputs": [
    {
     "name": "stdout",
     "output_type": "stream",
     "text": [
      "two\n",
      "Hello Jemison\n"
     ]
    }
   ],
   "source": [
    "if x == 1:\n",
    "    print('one')\n",
    "\n",
    "elif x == 2:\n",
    "    print('two')\n",
    "\n",
    "elif x == 3:\n",
    "    print('three')\n",
    "\n",
    "elif x == 4:\n",
    "    print('four')\n",
    "\n",
    "print('Hello Jemison')"
   ]
  },
  {
   "cell_type": "code",
   "execution_count": 73,
   "metadata": {},
   "outputs": [
    {
     "name": "stdout",
     "output_type": "stream",
     "text": [
      "How is the weather: Rainy or Dry?: ff\n"
     ]
    }
   ],
   "source": [
    "forecast = input('How is the weather: Rainy or Dry?: ')"
   ]
  },
  {
   "cell_type": "code",
   "execution_count": 74,
   "metadata": {},
   "outputs": [
    {
     "name": "stdout",
     "output_type": "stream",
     "text": [
      "Leave the umbrella home\n"
     ]
    }
   ],
   "source": [
    "if forecast == 'Rainy':\n",
    "    print('Take a umbrella')\n",
    "else:\n",
    "    print('Leave the umbrella home')\n",
    "    "
   ]
  },
  {
   "cell_type": "code",
   "execution_count": 75,
   "metadata": {},
   "outputs": [],
   "source": [
    "l = []\n",
    "for n in range(10):\n",
    "    l.append(n **2)"
   ]
  },
  {
   "cell_type": "code",
   "execution_count": 76,
   "metadata": {},
   "outputs": [
    {
     "data": {
      "text/plain": [
       "[0, 1, 4, 9, 16, 25, 36, 49, 64, 81]"
      ]
     },
     "execution_count": 76,
     "metadata": {},
     "output_type": "execute_result"
    }
   ],
   "source": [
    "l"
   ]
  },
  {
   "cell_type": "code",
   "execution_count": 77,
   "metadata": {},
   "outputs": [
    {
     "data": {
      "text/plain": [
       "[0, 1, 4, 9, 16, 25, 36, 49, 64, 81]"
      ]
     },
     "execution_count": 77,
     "metadata": {},
     "output_type": "execute_result"
    }
   ],
   "source": [
    "[n **2 for n in range(10)]"
   ]
  },
  {
   "cell_type": "code",
   "execution_count": 80,
   "metadata": {},
   "outputs": [
    {
     "name": "stdout",
     "output_type": "stream",
     "text": [
      "2,4,6,8,10,12,"
     ]
    }
   ],
   "source": [
    "# for loop:\n",
    "\n",
    "l = [1,2,3,4,5,6]\n",
    "\n",
    "for num in l:\n",
    "    print(num * 2, end = ',')"
   ]
  },
  {
   "cell_type": "code",
   "execution_count": 82,
   "metadata": {},
   "outputs": [
    {
     "name": "stdout",
     "output_type": "stream",
     "text": [
      "1 This number is odd\n",
      "2 This number is a even\n",
      "3 This number is odd\n",
      "4 This number is a even\n",
      "5 This number is odd\n",
      "6 This number is a even\n"
     ]
    }
   ],
   "source": [
    "# print if a number in list is odd/even\n",
    "\n",
    "l = [1,2,3,4,5,6]\n",
    "\n",
    "for num in l:\n",
    "    if num % 2 == 0:\n",
    "        print(num, 'This number is a even')\n",
    "    else:\n",
    "        print(num, 'This number is odd')"
   ]
  },
  {
   "cell_type": "code",
   "execution_count": 85,
   "metadata": {},
   "outputs": [
    {
     "name": "stdout",
     "output_type": "stream",
     "text": [
      "0\n",
      "2\n",
      "4\n",
      "6\n",
      "8\n"
     ]
    }
   ],
   "source": [
    "i = 0\n",
    "\n",
    "while i < 5:\n",
    "    print(i *2)\n",
    "    i = i +1"
   ]
  },
  {
   "cell_type": "code",
   "execution_count": 87,
   "metadata": {},
   "outputs": [
    {
     "name": "stdout",
     "output_type": "stream",
     "text": [
      "Please input the password: password\n",
      "Incorrect password\n",
      "Please input the password: password123\n",
      "Welcome!\n"
     ]
    }
   ],
   "source": [
    "stored_password = 'password123'\n",
    "user_input = input('Please input the password: ')\n",
    "\n",
    "\n",
    "while user_input != stored_password:\n",
    "    print('Incorrect password')\n",
    "    user_input = input('Please input the password: ')\n",
    "    #keep prompting for password\n",
    "print('Welcome!')"
   ]
  },
  {
   "cell_type": "code",
   "execution_count": 88,
   "metadata": {},
   "outputs": [
    {
     "data": {
      "text/plain": [
       "False"
      ]
     },
     "execution_count": 88,
     "metadata": {},
     "output_type": "execute_result"
    }
   ],
   "source": [
    "user_input != stored_password"
   ]
  },
  {
   "cell_type": "code",
   "execution_count": 90,
   "metadata": {},
   "outputs": [
    {
     "name": "stdout",
     "output_type": "stream",
     "text": [
      "Please input the password: password\n",
      "Incorrect password\n",
      "Please input the password: kefne\n",
      "Incorrect password\n",
      "Please input the password: lfmlefm\n",
      "Incorrect password\n",
      "Please input the password: password123\n",
      "Welcome!\n"
     ]
    }
   ],
   "source": [
    "stored_password = 'password123'\n",
    "user_input = input('Please input the password: ')\n",
    "\n",
    "while True:\n",
    "    print('Incorrect password')\n",
    "    user_input = input('Please input the password: ')\n",
    "    if user_input == stored_password:\n",
    "        break\n",
    "\n",
    "print('Welcome!')"
   ]
  },
  {
   "cell_type": "code",
   "execution_count": 101,
   "metadata": {},
   "outputs": [
    {
     "name": "stdout",
     "output_type": "stream",
     "text": [
      "1 Here is your candy\n",
      "2 Here is your candy\n",
      "3 Here is your candy\n",
      "4 Here is your candy\n",
      "5 Here is your candy\n",
      "6 Here is your candy\n",
      "Out of Candies!\n",
      "Have a great day\n"
     ]
    }
   ],
   "source": [
    "user_input = 10\n",
    "available_candies = 6\n",
    "i = 1 \n",
    "while i <= user_input:\n",
    "    if i > available_candies:\n",
    "        print('Out of Candies!')\n",
    "        break\n",
    "    print(i, 'Here is your candy')\n",
    "    i = i + 1\n",
    "\n",
    "print('Have a great day')"
   ]
  },
  {
   "cell_type": "code",
   "execution_count": 108,
   "metadata": {},
   "outputs": [
    {
     "name": "stdout",
     "output_type": "stream",
     "text": [
      "1 Here is an odd number\n",
      "3 Here is an odd number\n",
      "5 Here is an odd number\n",
      "7 Here is an odd number\n",
      "9 Here is an odd number\n",
      "11 Here is an odd number\n",
      "13 Here is an odd number\n",
      "15 Here is an odd number\n",
      "17 Here is an odd number\n",
      "19 Here is an odd number\n"
     ]
    }
   ],
   "source": [
    "for i in range(1,21):\n",
    "    if i % 2 == 0:\n",
    "        continue\n",
    "    else:\n",
    "        print(i, 'Here is an odd number')"
   ]
  },
  {
   "cell_type": "markdown",
   "metadata": {},
   "source": [
    "Create a while loop that starts at 2, and displays the number squared on each line while the number is less than 1,000,000. Output should equal:"
   ]
  },
  {
   "cell_type": "code",
   "execution_count": null,
   "metadata": {},
   "outputs": [],
   "source": []
  },
  {
   "cell_type": "code",
   "execution_count": 109,
   "metadata": {},
   "outputs": [
    {
     "name": "stdout",
     "output_type": "stream",
     "text": [
      "2\n",
      "4\n",
      "16\n",
      "256\n",
      "65536\n"
     ]
    }
   ],
   "source": [
    "i = 2\n",
    "\n",
    "while i < 1_000_000:\n",
    "    print(i)\n",
    "    i = i **2"
   ]
  },
  {
   "cell_type": "code",
   "execution_count": 110,
   "metadata": {},
   "outputs": [
    {
     "name": "stdout",
     "output_type": "stream",
     "text": [
      "7 x 1 = 7\n",
      "7 x 2 = 14\n",
      "7 x 3 = 21\n",
      "7 x 4 = 28\n",
      "7 x 5 = 35\n",
      "7 x 6 = 42\n",
      "7 x 7 = 49\n",
      "7 x 8 = 56\n",
      "7 x 9 = 63\n",
      "7 x 10 = 70\n"
     ]
    }
   ],
   "source": [
    "num = 7\n",
    "for i in range(1,11):\n",
    "    print(f'{num} x {i} = {num * i}')"
   ]
  },
  {
   "cell_type": "code",
   "execution_count": 114,
   "metadata": {},
   "outputs": [
    {
     "name": "stdout",
     "output_type": "stream",
     "text": [
      "1\n",
      "22\n",
      "333\n",
      "4444\n",
      "55555\n",
      "666666\n",
      "7777777\n",
      "88888888\n",
      "999999999\n"
     ]
    }
   ],
   "source": [
    "for i in range(1,10):\n",
    "    print(str(i) * i)"
   ]
  },
  {
   "cell_type": "code",
   "execution_count": 117,
   "metadata": {},
   "outputs": [
    {
     "name": "stdout",
     "output_type": "stream",
     "text": [
      "The number to skip is 27\n",
      "1 here is an odd number\n",
      "3 here is an odd number\n",
      "5 here is an odd number\n",
      "7 here is an odd number\n",
      "9 here is an odd number\n",
      "11 here is an odd number\n",
      "13 here is an odd number\n",
      "15 here is an odd number\n",
      "17 here is an odd number\n",
      "19 here is an odd number\n",
      "21 here is an odd number\n",
      "23 here is an odd number\n",
      "25 here is an odd number\n",
      "27 Yikes, skipping this number\n",
      "29 here is an odd number\n",
      "31 here is an odd number\n",
      "33 here is an odd number\n",
      "35 here is an odd number\n",
      "37 here is an odd number\n",
      "39 here is an odd number\n",
      "41 here is an odd number\n",
      "43 here is an odd number\n",
      "45 here is an odd number\n",
      "47 here is an odd number\n",
      "49 here is an odd number\n"
     ]
    }
   ],
   "source": [
    "num = 27\n",
    "print('The number to skip is', num)\n",
    "for i in range(1, 51):\n",
    "    \n",
    "    if i % 2 == 0:\n",
    "        continue\n",
    "    elif i == num:\n",
    "        print(i, 'Yikes, skipping this number')\n",
    "    else:\n",
    "        print(i, \"here is an odd number\")\n",
    "        "
   ]
  },
  {
   "cell_type": "code",
   "execution_count": 119,
   "metadata": {},
   "outputs": [],
   "source": [
    "d = {'title': ['a', 'b', 'c'], 'genre': [1,2,4]}"
   ]
  },
  {
   "cell_type": "code",
   "execution_count": 121,
   "metadata": {},
   "outputs": [
    {
     "data": {
      "text/plain": [
       "['a', 'b', 'c']"
      ]
     },
     "execution_count": 121,
     "metadata": {},
     "output_type": "execute_result"
    }
   ],
   "source": [
    "d['title']"
   ]
  },
  {
   "cell_type": "code",
   "execution_count": 122,
   "metadata": {},
   "outputs": [
    {
     "data": {
      "text/plain": [
       "dict_keys(['title', 'genre'])"
      ]
     },
     "execution_count": 122,
     "metadata": {},
     "output_type": "execute_result"
    }
   ],
   "source": [
    "d.keys()"
   ]
  },
  {
   "cell_type": "code",
   "execution_count": 123,
   "metadata": {},
   "outputs": [
    {
     "data": {
      "text/plain": [
       "dict_items([('title', ['a', 'b', 'c']), ('genre', [1, 2, 4])])"
      ]
     },
     "execution_count": 123,
     "metadata": {},
     "output_type": "execute_result"
    }
   ],
   "source": [
    "d.items()"
   ]
  },
  {
   "cell_type": "code",
   "execution_count": 159,
   "metadata": {},
   "outputs": [],
   "source": [
    "books = [\n",
    "    {\n",
    "        'title':'title1',\n",
    "        'author': 'author1',\n",
    "        'genre': 'genre1'\n",
    "    },\n",
    "    {\n",
    "        'title':'title2',\n",
    "        'author': 'author1',\n",
    "        'genre': 'genre2'\n",
    "    },\n",
    "    {\n",
    "        'title':'title3',\n",
    "        'author': 'author2',\n",
    "        'genre': 'genre2'\n",
    "    },\n",
    "    {\n",
    "        'title':'title4',\n",
    "        'author': 'author3',\n",
    "        'genre': 'genre2'\n",
    "    }\n",
    "]"
   ]
  },
  {
   "cell_type": "code",
   "execution_count": 158,
   "metadata": {},
   "outputs": [
    {
     "data": {
      "text/plain": [
       "5"
      ]
     },
     "execution_count": 158,
     "metadata": {},
     "output_type": "execute_result"
    }
   ],
   "source": [
    "len(books)"
   ]
  },
  {
   "cell_type": "code",
   "execution_count": 131,
   "metadata": {},
   "outputs": [
    {
     "data": {
      "text/plain": [
       "'genre1'"
      ]
     },
     "execution_count": 131,
     "metadata": {},
     "output_type": "execute_result"
    }
   ],
   "source": [
    "books[0]['genre']"
   ]
  },
  {
   "cell_type": "code",
   "execution_count": 134,
   "metadata": {},
   "outputs": [
    {
     "name": "stdout",
     "output_type": "stream",
     "text": [
      "title2\n",
      "title3\n",
      "title4\n"
     ]
    }
   ],
   "source": [
    "for book in books:\n",
    "    if book['genre'] == 'genre2':\n",
    "        print(book['title'])"
   ]
  },
  {
   "cell_type": "code",
   "execution_count": 143,
   "metadata": {},
   "outputs": [
    {
     "name": "stdout",
     "output_type": "stream",
     "text": [
      "  1   |   1   |  1   \n",
      "  2   |   4   |  8   \n",
      "  3   |   9   |  27  \n",
      "  4   |  16   |  64  \n"
     ]
    }
   ],
   "source": [
    "for i in range(1,5):\n",
    "    print('{:^6}|{:^7}|{:^6}'.format(i, i**2, i**3))"
   ]
  },
  {
   "cell_type": "code",
   "execution_count": 184,
   "metadata": {},
   "outputs": [
    {
     "data": {
      "text/plain": [
       "{'name': ['Codeup', 'abc'], 'age': [4, 3]}"
      ]
     },
     "execution_count": 184,
     "metadata": {},
     "output_type": "execute_result"
    }
   ],
   "source": [
    "dict(name=['Codeup', 'abc'], age=[4, 3])"
   ]
  },
  {
   "cell_type": "code",
   "execution_count": 160,
   "metadata": {},
   "outputs": [
    {
     "name": "stdout",
     "output_type": "stream",
     "text": [
      "age average: 29.00\n",
      "is_vegetarian is not numeric, skipping\n",
      "shoe size average: 8.86\n",
      "ISP is not numeric, skipping\n",
      "BMI average: 23.90\n"
     ]
    }
   ],
   "source": [
    "dataset = [{'name': 'age', 'type': 'int', 'data': [20, 25, 43, 11, 15, 53, 36]},\n",
    "           {'name': 'is_vegetarian', 'type': 'boolean', 'data': [False, True, False, False, True, False, False]},\n",
    "           {'name': 'shoe size', 'type': 'int', 'data': [8, 11, 7, 10, 7, 9, 10]},\n",
    "           {'name': 'ISP', 'type': 'categorical', 'data': ['AT&T', 'Spectrum', 'Spectrum', 'Spectrum', 'AT&T', 'Spectrum', 'AT&T']},\n",
    "           {'name': 'BMI', 'type': 'float', 'data': [29.9, 20.4, 23.3, 21.7, 22.2, 22.8, 27.0]}]\n",
    "\n",
    "# print the means for the numeric data\n",
    "for feature in dataset:\n",
    "    if feature['type'] == 'categorical' or feature['type'] == 'boolean':\n",
    "        print(f\"{feature['name']} is not numeric, skipping\")\n",
    "        continue\n",
    "    avg = sum(feature['data']) / len(feature['data'])\n",
    "    print(f\"{feature['name']} average: {avg:.2f}\") # the :.2f formats the decimal to 2 places."
   ]
  },
  {
   "cell_type": "code",
   "execution_count": 179,
   "metadata": {},
   "outputs": [
    {
     "data": {
      "text/plain": [
       "23.900000000000002"
      ]
     },
     "execution_count": 179,
     "metadata": {},
     "output_type": "execute_result"
    }
   ],
   "source": [
    "sum(dataset[4]['data'])/len(dataset[4]['data'])"
   ]
  },
  {
   "cell_type": "code",
   "execution_count": 1,
   "metadata": {},
   "outputs": [],
   "source": [
    "l = [1,2,4,5,6]\n",
    "\n",
    "total = 0\n",
    "l1 = []\n",
    "for i in l:\n",
    "    total = total + i\n",
    "    l1.append(total)\n",
    "    "
   ]
  },
  {
   "cell_type": "code",
   "execution_count": 3,
   "metadata": {},
   "outputs": [],
   "source": [
    "string = '% Completed'\n",
    "\n",
    "string = string.lower()"
   ]
  },
  {
   "cell_type": "code",
   "execution_count": 10,
   "metadata": {},
   "outputs": [],
   "source": [
    "string = '% Completed'\n",
    "string1 = ''\n",
    "\n",
    "for char in string:\n",
    "    if char.isidentifier() or char == ' ':\n",
    "        string1 += char\n",
    "\n",
    "string1 = string1.lower().strip().replace(' ', '_')"
   ]
  },
  {
   "cell_type": "code",
   "execution_count": 11,
   "metadata": {},
   "outputs": [
    {
     "data": {
      "text/plain": [
       "'completed'"
      ]
     },
     "execution_count": 11,
     "metadata": {},
     "output_type": "execute_result"
    }
   ],
   "source": [
    "string1"
   ]
  },
  {
   "cell_type": "code",
   "execution_count": 13,
   "metadata": {},
   "outputs": [],
   "source": [
    "def col_index(x):\n",
    "    dictt = {'a':'1','b':'2','c':'3','d':'4','e':'5','f':'6','g':'7','h':'8',\n",
    "        'i':'9','j':'10','k':'11','l':'12','m':'13','n':'14','o':'15','p':'16','q':'17',\n",
    "        'r':'18','s':'19','t':'20','u':'21','v':'22','w':'23','x':'24','y':'25','z':'26'\n",
    "        }\n",
    "    y = x.lower()\n",
    "    n = len(x)\n",
    "    num = 0\n",
    "\n",
    "    for i in range(0,n):\n",
    "        num = (26**(n-1-i)) * int(dictt[y[i]]) +num\n",
    "\n",
    "    return num"
   ]
  },
  {
   "cell_type": "code",
   "execution_count": 19,
   "metadata": {},
   "outputs": [
    {
     "data": {
      "text/plain": [
       "703"
      ]
     },
     "execution_count": 19,
     "metadata": {},
     "output_type": "execute_result"
    }
   ],
   "source": [
    "col_index('AAA')"
   ]
  },
  {
   "cell_type": "code",
   "execution_count": 23,
   "metadata": {},
   "outputs": [],
   "source": [
    "students = [\n",
    "    {\n",
    "        \"id\": \"100001\",\n",
    "        \"student\": \"Ada Lovelace\",\n",
    "        \"coffee_preference\": \"light\",\n",
    "        \"course\": \"web development\",\n",
    "        \"grades\": [70, 91, 82, 71],\n",
    "        \"pets\": [{\"species\": \"horse\", \"age\": 8}],\n",
    "    },\n",
    "    {\n",
    "        \"id\": \"100002\",\n",
    "        \"student\": \"Thomas Bayes\",\n",
    "        \"coffee_preference\": \"medium\",\n",
    "        \"course\": \"data science\",\n",
    "        \"grades\": [75, 73, 86, 100],\n",
    "        \"pets\": [],\n",
    "    },\n",
    "    {\n",
    "        \"id\": \"100003\",\n",
    "        \"student\": \"Marie Curie\",\n",
    "        \"coffee_preference\": \"light\",\n",
    "        \"course\": \"web development\",\n",
    "        \"grades\": [70, 89, 69, 65],\n",
    "        \"pets\": [{\"species\": \"cat\", \"age\": 0}],\n",
    "    },\n",
    "    {\n",
    "        \"id\": \"100004\",\n",
    "        \"student\": \"Grace Hopper\",\n",
    "        \"coffee_preference\": \"dark\",\n",
    "        \"course\": \"data science\",\n",
    "        \"grades\": [73, 66, 83, 92],\n",
    "        \"pets\": [{\"species\": \"dog\", \"age\": 4}, {\"species\": \"cat\", \"age\": 4}],\n",
    "    },\n",
    "    {\n",
    "        \"id\": \"100005\",\n",
    "        \"student\": \"Alan Turing\",\n",
    "        \"coffee_preference\": \"dark\",\n",
    "        \"course\": \"web development\",\n",
    "        \"grades\": [78, 98, 85, 65],\n",
    "        \"pets\": [\n",
    "            {\"species\": \"horse\", \"age\": 6},\n",
    "            {\"species\": \"horse\", \"age\": 7},\n",
    "            {\"species\": \"dog\", \"age\": 5},\n",
    "        ],\n",
    "    },\n",
    "    {\n",
    "        \"id\": \"100006\",\n",
    "        \"student\": \"Rosalind Franklin\",\n",
    "        \"coffee_preference\": \"dark\",\n",
    "        \"course\": \"data science\",\n",
    "        \"grades\": [76, 70, 96, 81],\n",
    "        \"pets\": [],\n",
    "    },\n",
    "    {\n",
    "        \"id\": \"100007\",\n",
    "        \"student\": \"Elizabeth Blackwell\",\n",
    "        \"coffee_preference\": \"dark\",\n",
    "        \"course\": \"web development\",\n",
    "        \"grades\": [69, 94, 89, 86],\n",
    "        \"pets\": [{\"species\": \"cat\", \"age\": 10}],\n",
    "    },\n",
    "    {\n",
    "        \"id\": \"100008\",\n",
    "        \"student\": \"Rene Descartes\",\n",
    "        \"coffee_preference\": \"medium\",\n",
    "        \"course\": \"data science\",\n",
    "        \"grades\": [87, 79, 90, 99],\n",
    "        \"pets\": [{\"species\": \"cat\", \"age\": 10}, {\"species\": \"cat\", \"age\": 8}],\n",
    "    },\n",
    "    {\n",
    "        \"id\": \"100009\",\n",
    "        \"student\": \"Ahmed Zewail\",\n",
    "        \"coffee_preference\": \"medium\",\n",
    "        \"course\": \"data science\",\n",
    "        \"grades\": [74, 99, 93, 89],\n",
    "        \"pets\": [{\"species\": \"cat\", \"age\": 0}, {\"species\": \"cat\", \"age\": 0}],\n",
    "    },\n",
    "    {\n",
    "        \"id\": \"100010\",\n",
    "        \"student\": \"Chien-Shiung Wu\",\n",
    "        \"coffee_preference\": \"medium\",\n",
    "        \"course\": \"web development\",\n",
    "        \"grades\": [82, 92, 91, 65],\n",
    "        \"pets\": [{\"species\": \"cat\", \"age\": 8}],\n",
    "    },\n",
    "    {\n",
    "        \"id\": \"100011\",\n",
    "        \"student\": \"William Sanford Nye\",\n",
    "        \"coffee_preference\": \"dark\",\n",
    "        \"course\": \"data science\",\n",
    "        \"grades\": [70, 92, 65, 99],\n",
    "        \"pets\": [{\"species\": \"cat\", \"age\": 8}, {\"species\": \"cat\", \"age\": 5}],\n",
    "    },\n",
    "    {\n",
    "        \"id\": \"100012\",\n",
    "        \"student\": \"Carl Sagan\",\n",
    "        \"coffee_preference\": \"medium\",\n",
    "        \"course\": \"data science\",\n",
    "        \"grades\": [100, 86, 91, 87],\n",
    "        \"pets\": [{\"species\": \"cat\", \"age\": 10}],\n",
    "    },\n",
    "    {\n",
    "        \"id\": \"100013\",\n",
    "        \"student\": \"Jane Goodall\",\n",
    "        \"coffee_preference\": \"light\",\n",
    "        \"course\": \"web development\",\n",
    "        \"grades\": [80, 70, 68, 98],\n",
    "        \"pets\": [{\"species\": \"horse\", \"age\": 4}],\n",
    "    },\n",
    "    {\n",
    "        \"id\": \"100014\",\n",
    "        \"student\": \"Richard Feynman\",\n",
    "        \"coffee_preference\": \"medium\",\n",
    "        \"course\": \"web development\",\n",
    "        \"grades\": [73, 99, 86, 98],\n",
    "        \"pets\": [{\"species\": \"dog\", \"age\": 6}],\n",
    "    },\n",
    "]"
   ]
  },
  {
   "cell_type": "code",
   "execution_count": 27,
   "metadata": {},
   "outputs": [
    {
     "data": {
      "text/plain": [
       "['light', 'light', 'dark', 'dark', 'medium', 'light', 'medium']"
      ]
     },
     "execution_count": 27,
     "metadata": {},
     "output_type": "execute_result"
    }
   ],
   "source": [
    "# list comprehensives\n",
    "\n",
    "[s['coffee_preference'] for s in students if s['course'] == 'web development']"
   ]
  },
  {
   "cell_type": "code",
   "execution_count": 28,
   "metadata": {},
   "outputs": [
    {
     "data": {
      "text/plain": [
       "[{'id': '100001',\n",
       "  'student': 'Ada Lovelace',\n",
       "  'coffee_preference': 'light',\n",
       "  'course': 'web development',\n",
       "  'grades': [70, 91, 82, 71],\n",
       "  'pets': [{'species': 'horse', 'age': 8}]},\n",
       " {'id': '100002',\n",
       "  'student': 'Thomas Bayes',\n",
       "  'coffee_preference': 'medium',\n",
       "  'course': 'data science',\n",
       "  'grades': [75, 73, 86, 100],\n",
       "  'pets': []},\n",
       " {'id': '100003',\n",
       "  'student': 'Marie Curie',\n",
       "  'coffee_preference': 'light',\n",
       "  'course': 'web development',\n",
       "  'grades': [70, 89, 69, 65],\n",
       "  'pets': [{'species': 'cat', 'age': 0}]},\n",
       " {'id': '100004',\n",
       "  'student': 'Grace Hopper',\n",
       "  'coffee_preference': 'dark',\n",
       "  'course': 'data science',\n",
       "  'grades': [73, 66, 83, 92],\n",
       "  'pets': [{'species': 'dog', 'age': 4}, {'species': 'cat', 'age': 4}]},\n",
       " {'id': '100005',\n",
       "  'student': 'Alan Turing',\n",
       "  'coffee_preference': 'dark',\n",
       "  'course': 'web development',\n",
       "  'grades': [78, 98, 85, 65],\n",
       "  'pets': [{'species': 'horse', 'age': 6},\n",
       "   {'species': 'horse', 'age': 7},\n",
       "   {'species': 'dog', 'age': 5}]},\n",
       " {'id': '100006',\n",
       "  'student': 'Rosalind Franklin',\n",
       "  'coffee_preference': 'dark',\n",
       "  'course': 'data science',\n",
       "  'grades': [76, 70, 96, 81],\n",
       "  'pets': []},\n",
       " {'id': '100007',\n",
       "  'student': 'Elizabeth Blackwell',\n",
       "  'coffee_preference': 'dark',\n",
       "  'course': 'web development',\n",
       "  'grades': [69, 94, 89, 86],\n",
       "  'pets': [{'species': 'cat', 'age': 10}]},\n",
       " {'id': '100008',\n",
       "  'student': 'Rene Descartes',\n",
       "  'coffee_preference': 'medium',\n",
       "  'course': 'data science',\n",
       "  'grades': [87, 79, 90, 99],\n",
       "  'pets': [{'species': 'cat', 'age': 10}, {'species': 'cat', 'age': 8}]},\n",
       " {'id': '100009',\n",
       "  'student': 'Ahmed Zewail',\n",
       "  'coffee_preference': 'medium',\n",
       "  'course': 'data science',\n",
       "  'grades': [74, 99, 93, 89],\n",
       "  'pets': [{'species': 'cat', 'age': 0}, {'species': 'cat', 'age': 0}]},\n",
       " {'id': '100010',\n",
       "  'student': 'Chien-Shiung Wu',\n",
       "  'coffee_preference': 'medium',\n",
       "  'course': 'web development',\n",
       "  'grades': [82, 92, 91, 65],\n",
       "  'pets': [{'species': 'cat', 'age': 8}]},\n",
       " {'id': '100011',\n",
       "  'student': 'William Sanford Nye',\n",
       "  'coffee_preference': 'dark',\n",
       "  'course': 'data science',\n",
       "  'grades': [70, 92, 65, 99],\n",
       "  'pets': [{'species': 'cat', 'age': 8}, {'species': 'cat', 'age': 5}]},\n",
       " {'id': '100012',\n",
       "  'student': 'Carl Sagan',\n",
       "  'coffee_preference': 'medium',\n",
       "  'course': 'data science',\n",
       "  'grades': [100, 86, 91, 87],\n",
       "  'pets': [{'species': 'cat', 'age': 10}]},\n",
       " {'id': '100013',\n",
       "  'student': 'Jane Goodall',\n",
       "  'coffee_preference': 'light',\n",
       "  'course': 'web development',\n",
       "  'grades': [80, 70, 68, 98],\n",
       "  'pets': [{'species': 'horse', 'age': 4}]},\n",
       " {'id': '100014',\n",
       "  'student': 'Richard Feynman',\n",
       "  'coffee_preference': 'medium',\n",
       "  'course': 'web development',\n",
       "  'grades': [73, 99, 86, 98],\n",
       "  'pets': [{'species': 'dog', 'age': 6}]}]"
      ]
     },
     "execution_count": 28,
     "metadata": {},
     "output_type": "execute_result"
    }
   ],
   "source": [
    "[s for s in students]"
   ]
  },
  {
   "cell_type": "code",
   "execution_count": 37,
   "metadata": {},
   "outputs": [
    {
     "data": {
      "text/plain": [
       "[{'species': 'horse', 'age': 8}]"
      ]
     },
     "execution_count": 37,
     "metadata": {},
     "output_type": "execute_result"
    }
   ],
   "source": [
    "students[0]['pets']"
   ]
  },
  {
   "cell_type": "code",
   "execution_count": 32,
   "metadata": {},
   "outputs": [
    {
     "data": {
      "text/plain": [
       "[[{'species': 'horse', 'age': 8}],\n",
       " [],\n",
       " [{'species': 'cat', 'age': 0}],\n",
       " [{'species': 'dog', 'age': 4}, {'species': 'cat', 'age': 4}],\n",
       " [{'species': 'horse', 'age': 6},\n",
       "  {'species': 'horse', 'age': 7},\n",
       "  {'species': 'dog', 'age': 5}],\n",
       " [],\n",
       " [{'species': 'cat', 'age': 10}],\n",
       " [{'species': 'cat', 'age': 10}, {'species': 'cat', 'age': 8}],\n",
       " [{'species': 'cat', 'age': 0}, {'species': 'cat', 'age': 0}],\n",
       " [{'species': 'cat', 'age': 8}],\n",
       " [{'species': 'cat', 'age': 8}, {'species': 'cat', 'age': 5}],\n",
       " [{'species': 'cat', 'age': 10}],\n",
       " [{'species': 'horse', 'age': 4}],\n",
       " [{'species': 'dog', 'age': 6}]]"
      ]
     },
     "execution_count": 32,
     "metadata": {},
     "output_type": "execute_result"
    }
   ],
   "source": [
    "[s['pets'] for s in students]"
   ]
  },
  {
   "cell_type": "code",
   "execution_count": 41,
   "metadata": {},
   "outputs": [
    {
     "data": {
      "text/plain": [
       "[<matplotlib.lines.Line2D at 0x7fb0a0ced340>]"
      ]
     },
     "execution_count": 41,
     "metadata": {},
     "output_type": "execute_result"
    },
    {
     "data": {
      "image/png": "[encoded data removed]",
      "text/plain": [
       "<Figure size 432x288 with 1 Axes>"
      ]
     },
     "metadata": {
      "needs_background": "light"
     },
     "output_type": "display_data"
    }
   ],
   "source": [
    "import matplotlib.pyplot as plt\n",
    "y = [2,4,6,7,9]\n",
    "x = [1,2,4,5,6]\n",
    "plt.plot(x,y)"
   ]
  },
  {
   "cell_type": "code",
   "execution_count": 42,
   "metadata": {},
   "outputs": [],
   "source": [
    "# 2019 Survey Link: https://insights.stackoverflow.com/survey/2019\n",
    "\n",
    "#Respondents age\n",
    "age = [25, 26, 27, 28, 29, 30, 31, 32, 33, 34, 35]\n",
    "\n",
    "# Overall Median Developer Salaries by Age\n",
    "dev_y = [38496, 42000, 46752, 49320, 53200,\n",
    "         56000, 62316, 64928, 67317, 68748, 73752]\n",
    "\n",
    "\n",
    "# Median Python Developer Salaries by Age\n",
    "py_dev_y = [45372, 48876, 53850, 57287, 63016,\n",
    "            65998, 70003, 70000, 71496, 75370, 83640]\n",
    "\n",
    "\n",
    "# Median JavaScript Developer Salaries by Age\n",
    "js_dev_y = [37810, 43515, 46823, 49293, 53437,\n",
    "            56373, 62375, 66674, 68745, 68746, 74583]"
   ]
  },
  {
   "cell_type": "code",
   "execution_count": 43,
   "metadata": {},
   "outputs": [
    {
     "data": {
      "text/plain": [
       "<Figure size 720x576 with 0 Axes>"
      ]
     },
     "metadata": {},
     "output_type": "display_data"
    }
   ],
   "source": [
    "\n",
    "\n",
    "plt.figure(figsize = (10,8))\n",
    "\n",
    "plt.plot()\n",
    "\n"
   ]
  },
  {
   "cell_type": "code",
   "execution_count": null,
   "metadata": {},
   "outputs": [],
   "source": []
  }
 ],
 "metadata": {
  "kernelspec": {
   "display_name": "Python 3",
   "language": "python",
   "name": "python3"
  },
  "language_info": {
   "codemirror_mode": {
    "name": "ipython",
    "version": 3
   },
   "file_extension": ".py",
   "mimetype": "text/x-python",
   "name": "python",
   "nbconvert_exporter": "python",
   "pygments_lexer": "ipython3",
   "version": "3.8.5"
  }
 },
 "nbformat": 4,
 "nbformat_minor": 4
}
